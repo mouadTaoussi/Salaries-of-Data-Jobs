{
 "cells": [
  {
   "cell_type": "code",
   "execution_count": 1,
   "metadata": {},
   "outputs": [],
   "source": [
    "import pandas as pd\n",
    "import numpy as np\n",
    "import matplotlib.pyplot as pyplot\n",
    "from country_code_3166 import ISO3166"
   ]
  },
  {
   "cell_type": "markdown",
   "metadata": {},
   "source": [
    "### Import data"
   ]
  },
  {
   "cell_type": "code",
   "execution_count": 2,
   "metadata": {},
   "outputs": [],
   "source": [
    "raw = pd.read_csv('./Data_salaries.csv')"
   ]
  },
  {
   "cell_type": "markdown",
   "metadata": {},
   "source": [
    "### Explore data"
   ]
  },
  {
   "cell_type": "code",
   "execution_count": 3,
   "metadata": {},
   "outputs": [
    {
     "name": "stdout",
     "output_type": "stream",
     "text": [
      "<class 'pandas.core.frame.DataFrame'>\n",
      "RangeIndex: 7974 entries, 0 to 7973\n",
      "Data columns (total 11 columns):\n",
      " #   Column              Non-Null Count  Dtype \n",
      "---  ------              --------------  ----- \n",
      " 0   work_year           7974 non-null   int64 \n",
      " 1   experience_level    7974 non-null   object\n",
      " 2   employment_type     7974 non-null   object\n",
      " 3   job_title           7974 non-null   object\n",
      " 4   salary              7974 non-null   int64 \n",
      " 5   salary_currency     7974 non-null   object\n",
      " 6   salary_in_usd       7974 non-null   int64 \n",
      " 7   employee_residence  7974 non-null   object\n",
      " 8   remote_ratio        7974 non-null   int64 \n",
      " 9   company_location    7974 non-null   object\n",
      " 10  company_size        7974 non-null   object\n",
      "dtypes: int64(4), object(7)\n",
      "memory usage: 685.4+ KB\n"
     ]
    }
   ],
   "source": [
    "raw.info()"
   ]
  },
  {
   "cell_type": "code",
   "execution_count": 4,
   "metadata": {},
   "outputs": [
    {
     "data": {
      "text/plain": [
       "(7974, 11)"
      ]
     },
     "execution_count": 4,
     "metadata": {},
     "output_type": "execute_result"
    }
   ],
   "source": [
    "raw.shape"
   ]
  },
  {
   "cell_type": "code",
   "execution_count": 5,
   "metadata": {},
   "outputs": [
    {
     "data": {
      "text/html": [
       "<div>\n",
       "<style scoped>\n",
       "    .dataframe tbody tr th:only-of-type {\n",
       "        vertical-align: middle;\n",
       "    }\n",
       "\n",
       "    .dataframe tbody tr th {\n",
       "        vertical-align: top;\n",
       "    }\n",
       "\n",
       "    .dataframe thead th {\n",
       "        text-align: right;\n",
       "    }\n",
       "</style>\n",
       "<table border=\"1\" class=\"dataframe\">\n",
       "  <thead>\n",
       "    <tr style=\"text-align: right;\">\n",
       "      <th></th>\n",
       "      <th>work_year</th>\n",
       "      <th>experience_level</th>\n",
       "      <th>employment_type</th>\n",
       "      <th>job_title</th>\n",
       "      <th>salary</th>\n",
       "      <th>salary_currency</th>\n",
       "      <th>salary_in_usd</th>\n",
       "      <th>employee_residence</th>\n",
       "      <th>remote_ratio</th>\n",
       "      <th>company_location</th>\n",
       "      <th>company_size</th>\n",
       "    </tr>\n",
       "  </thead>\n",
       "  <tbody>\n",
       "    <tr>\n",
       "      <th>0</th>\n",
       "      <td>2023</td>\n",
       "      <td>SE</td>\n",
       "      <td>FT</td>\n",
       "      <td>Business Intelligence Engineer</td>\n",
       "      <td>202800</td>\n",
       "      <td>USD</td>\n",
       "      <td>202800</td>\n",
       "      <td>US</td>\n",
       "      <td>0</td>\n",
       "      <td>US</td>\n",
       "      <td>L</td>\n",
       "    </tr>\n",
       "    <tr>\n",
       "      <th>1</th>\n",
       "      <td>2023</td>\n",
       "      <td>SE</td>\n",
       "      <td>FT</td>\n",
       "      <td>Business Intelligence Engineer</td>\n",
       "      <td>104300</td>\n",
       "      <td>USD</td>\n",
       "      <td>104300</td>\n",
       "      <td>US</td>\n",
       "      <td>0</td>\n",
       "      <td>US</td>\n",
       "      <td>L</td>\n",
       "    </tr>\n",
       "  </tbody>\n",
       "</table>\n",
       "</div>"
      ],
      "text/plain": [
       "   work_year experience_level employment_type                       job_title  \\\n",
       "0       2023               SE              FT  Business Intelligence Engineer   \n",
       "1       2023               SE              FT  Business Intelligence Engineer   \n",
       "\n",
       "   salary salary_currency  salary_in_usd employee_residence  remote_ratio  \\\n",
       "0  202800             USD         202800                 US             0   \n",
       "1  104300             USD         104300                 US             0   \n",
       "\n",
       "  company_location company_size  \n",
       "0               US            L  \n",
       "1               US            L  "
      ]
     },
     "execution_count": 5,
     "metadata": {},
     "output_type": "execute_result"
    }
   ],
   "source": [
    "raw.head(2)"
   ]
  },
  {
   "cell_type": "code",
   "execution_count": 6,
   "metadata": {},
   "outputs": [
    {
     "name": "stdout",
     "output_type": "stream",
     "text": [
      "Salary in USD:\n",
      " Mean: 149369.3112616002\n",
      " Min : 15000\n",
      " Max : 450000\n"
     ]
    }
   ],
   "source": [
    "print('Salary in USD:')\n",
    "print(' Mean: {mean}'.format(mean=raw['salary_in_usd'].mean()))\n",
    "print(' Min : {min}'.format(min=raw['salary_in_usd'].min()))\n",
    "print(' Max : {max}'.format(max=raw['salary_in_usd'].max()))"
   ]
  },
  {
   "cell_type": "markdown",
   "metadata": {},
   "source": [
    "### Data Cleaning"
   ]
  },
  {
   "cell_type": "markdown",
   "metadata": {},
   "source": [
    "### Replace columns and Data wragling"
   ]
  },
  {
   "cell_type": "markdown",
   "metadata": {},
   "source": [
    "#### Replace Experience level"
   ]
  },
  {
   "cell_type": "code",
   "execution_count": 7,
   "metadata": {},
   "outputs": [],
   "source": [
    "# raw['experience_level'].unique()\n",
    "exp_lvl = {\n",
    "    'EN':'Entry-level / Junior',\n",
    "    'MI':'Mid-level /Intermediate',\n",
    "    'SE':'Senior-level/ Expert',\n",
    "    'EX':'Executive-level / Director'\n",
    "}\n",
    "raw['experience_level'].replace(exp_lvl,inplace=True)\n",
    "# raw.head(2)\n"
   ]
  },
  {
   "cell_type": "markdown",
   "metadata": {},
   "source": [
    "#### Replace Employement type "
   ]
  },
  {
   "cell_type": "code",
   "execution_count": 8,
   "metadata": {},
   "outputs": [],
   "source": [
    "# raw['employment_type'].unique()\n",
    "emp_lvl = {\n",
    "    'PT': 'Part-time', \n",
    "    'FT': 'Full-time', \n",
    "    'CT': 'Contract', \n",
    "    'FL': 'Freelance'\n",
    "}\n",
    "raw['employment_type'].replace(emp_lvl,inplace=True)\n",
    "# raw.head(2)"
   ]
  },
  {
   "cell_type": "markdown",
   "metadata": {},
   "source": [
    "#### Replace employee residence & company location "
   ]
  },
  {
   "cell_type": "code",
   "execution_count": 9,
   "metadata": {},
   "outputs": [],
   "source": [
    "raw['employee_residence'].replace(ISO3166, inplace=True)\n",
    "raw['company_location'].replace(ISO3166, inplace=True)\n",
    "# raw.head(2)"
   ]
  },
  {
   "cell_type": "markdown",
   "metadata": {},
   "source": [
    "#### Replace Company size"
   ]
  },
  {
   "cell_type": "code",
   "execution_count": 10,
   "metadata": {},
   "outputs": [],
   "source": [
    "# raw['company_size'].unique()\n",
    "raw[\"company_size\"].replace({'L':'Large','M':'Medium','S':'Small'},inplace=True)\n",
    "# raw.head(5)"
   ]
  },
  {
   "cell_type": "markdown",
   "metadata": {},
   "source": [
    "#### Replace Remote Ratio"
   ]
  },
  {
   "cell_type": "code",
   "execution_count": 11,
   "metadata": {},
   "outputs": [],
   "source": [
    "raw['remote_ratio'].replace({0:'Not at all',50:'Somthimes',100:'Totally Remote'},inplace=True)"
   ]
  },
  {
   "cell_type": "markdown",
   "metadata": {},
   "source": [
    "### Sort by salary"
   ]
  },
  {
   "cell_type": "code",
   "execution_count": 12,
   "metadata": {},
   "outputs": [],
   "source": [
    "raw.sort_values(by=['salary_in_usd'], ascending=False,inplace=True)"
   ]
  },
  {
   "cell_type": "code",
   "execution_count": 13,
   "metadata": {},
   "outputs": [
    {
     "data": {
      "text/html": [
       "<div>\n",
       "<style scoped>\n",
       "    .dataframe tbody tr th:only-of-type {\n",
       "        vertical-align: middle;\n",
       "    }\n",
       "\n",
       "    .dataframe tbody tr th {\n",
       "        vertical-align: top;\n",
       "    }\n",
       "\n",
       "    .dataframe thead th {\n",
       "        text-align: right;\n",
       "    }\n",
       "</style>\n",
       "<table border=\"1\" class=\"dataframe\">\n",
       "  <thead>\n",
       "    <tr style=\"text-align: right;\">\n",
       "      <th></th>\n",
       "      <th>work_year</th>\n",
       "      <th>experience_level</th>\n",
       "      <th>employment_type</th>\n",
       "      <th>job_title</th>\n",
       "      <th>salary</th>\n",
       "      <th>salary_currency</th>\n",
       "      <th>salary_in_usd</th>\n",
       "      <th>employee_residence</th>\n",
       "      <th>remote_ratio</th>\n",
       "      <th>company_location</th>\n",
       "      <th>company_size</th>\n",
       "    </tr>\n",
       "  </thead>\n",
       "  <tbody>\n",
       "    <tr>\n",
       "      <th>7756</th>\n",
       "      <td>2020</td>\n",
       "      <td>Mid-level /Intermediate</td>\n",
       "      <td>Full-time</td>\n",
       "      <td>Research Scientist</td>\n",
       "      <td>450000</td>\n",
       "      <td>USD</td>\n",
       "      <td>450000</td>\n",
       "      <td>United States of America</td>\n",
       "      <td>Not at all</td>\n",
       "      <td>United States of America</td>\n",
       "      <td>Medium</td>\n",
       "    </tr>\n",
       "    <tr>\n",
       "      <th>6268</th>\n",
       "      <td>2022</td>\n",
       "      <td>Mid-level /Intermediate</td>\n",
       "      <td>Full-time</td>\n",
       "      <td>Data Analyst</td>\n",
       "      <td>350000</td>\n",
       "      <td>GBP</td>\n",
       "      <td>430967</td>\n",
       "      <td>United Kingdom (Great Britain)</td>\n",
       "      <td>Not at all</td>\n",
       "      <td>United Kingdom (Great Britain)</td>\n",
       "      <td>Medium</td>\n",
       "    </tr>\n",
       "    <tr>\n",
       "      <th>4268</th>\n",
       "      <td>2023</td>\n",
       "      <td>Mid-level /Intermediate</td>\n",
       "      <td>Full-time</td>\n",
       "      <td>Analytics Engineer</td>\n",
       "      <td>350000</td>\n",
       "      <td>GBP</td>\n",
       "      <td>430640</td>\n",
       "      <td>United Kingdom (Great Britain)</td>\n",
       "      <td>Not at all</td>\n",
       "      <td>United Kingdom (Great Britain)</td>\n",
       "      <td>Medium</td>\n",
       "    </tr>\n",
       "    <tr>\n",
       "      <th>7966</th>\n",
       "      <td>2021</td>\n",
       "      <td>Mid-level /Intermediate</td>\n",
       "      <td>Full-time</td>\n",
       "      <td>Applied Machine Learning Scientist</td>\n",
       "      <td>423000</td>\n",
       "      <td>USD</td>\n",
       "      <td>423000</td>\n",
       "      <td>United States of America</td>\n",
       "      <td>Somthimes</td>\n",
       "      <td>United States of America</td>\n",
       "      <td>Large</td>\n",
       "    </tr>\n",
       "    <tr>\n",
       "      <th>4796</th>\n",
       "      <td>2023</td>\n",
       "      <td>Senior-level/ Expert</td>\n",
       "      <td>Full-time</td>\n",
       "      <td>AI Scientist</td>\n",
       "      <td>1500000</td>\n",
       "      <td>ILS</td>\n",
       "      <td>417937</td>\n",
       "      <td>Israel</td>\n",
       "      <td>Not at all</td>\n",
       "      <td>Israel</td>\n",
       "      <td>Large</td>\n",
       "    </tr>\n",
       "  </tbody>\n",
       "</table>\n",
       "</div>"
      ],
      "text/plain": [
       "      work_year         experience_level employment_type  \\\n",
       "7756       2020  Mid-level /Intermediate       Full-time   \n",
       "6268       2022  Mid-level /Intermediate       Full-time   \n",
       "4268       2023  Mid-level /Intermediate       Full-time   \n",
       "7966       2021  Mid-level /Intermediate       Full-time   \n",
       "4796       2023     Senior-level/ Expert       Full-time   \n",
       "\n",
       "                               job_title   salary salary_currency  \\\n",
       "7756                  Research Scientist   450000             USD   \n",
       "6268                        Data Analyst   350000             GBP   \n",
       "4268                  Analytics Engineer   350000             GBP   \n",
       "7966  Applied Machine Learning Scientist   423000             USD   \n",
       "4796                        AI Scientist  1500000             ILS   \n",
       "\n",
       "      salary_in_usd              employee_residence remote_ratio  \\\n",
       "7756         450000        United States of America   Not at all   \n",
       "6268         430967  United Kingdom (Great Britain)   Not at all   \n",
       "4268         430640  United Kingdom (Great Britain)   Not at all   \n",
       "7966         423000        United States of America    Somthimes   \n",
       "4796         417937                          Israel   Not at all   \n",
       "\n",
       "                    company_location company_size  \n",
       "7756        United States of America       Medium  \n",
       "6268  United Kingdom (Great Britain)       Medium  \n",
       "4268  United Kingdom (Great Britain)       Medium  \n",
       "7966        United States of America        Large  \n",
       "4796                          Israel        Large  "
      ]
     },
     "execution_count": 13,
     "metadata": {},
     "output_type": "execute_result"
    }
   ],
   "source": [
    "raw.head(5)"
   ]
  },
  {
   "cell_type": "markdown",
   "metadata": {},
   "source": [
    "### Save the output"
   ]
  },
  {
   "cell_type": "code",
   "execution_count": 14,
   "metadata": {},
   "outputs": [],
   "source": [
    "# raw.to_excel('Data_salaries_output.xlxs',sheet_name=\"salaries\")\n",
    "# # \n",
    "# with pd.ExcelWriter('Data_salaries_output.xlxs',engine='xlsxwriter') as excel_writer:\n",
    "#     raw.to_excel(excel_writer, sheet_name='salaries', index=False)\n",
    "raw.to_csv('Data_salaries_output.csv')"
   ]
  },
  {
   "cell_type": "code",
   "execution_count": null,
   "metadata": {},
   "outputs": [],
   "source": []
  }
 ],
 "metadata": {
  "kernelspec": {
   "display_name": "Python 3",
   "language": "python",
   "name": "python3"
  },
  "language_info": {
   "codemirror_mode": {
    "name": "ipython",
    "version": 3
   },
   "file_extension": ".py",
   "mimetype": "text/x-python",
   "name": "python",
   "nbconvert_exporter": "python",
   "pygments_lexer": "ipython3",
   "version": "3.11.4"
  }
 },
 "nbformat": 4,
 "nbformat_minor": 2
}
